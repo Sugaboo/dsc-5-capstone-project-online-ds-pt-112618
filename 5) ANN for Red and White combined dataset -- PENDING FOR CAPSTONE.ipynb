{
 "cells": [
  {
   "cell_type": "markdown",
   "metadata": {},
   "source": [
    "# 5) Red and White wine ANN"
   ]
  },
  {
   "cell_type": "code",
   "execution_count": 1,
   "metadata": {},
   "outputs": [],
   "source": [
    "import pandas as pd\n",
    "import numpy as np\n",
    "import seaborn as sns\n",
    "import matplotlib.pyplot as plt\n",
    "import warnings\n",
    "warnings.filterwarnings('ignore')\n",
    "%matplotlib inline\n",
    "\n",
    "import sklearn\n",
    "from sklearn.model_selection import train_test_split,cross_val_score,KFold,cross_val_predict\n",
    "from sklearn.metrics import accuracy_score, classification_report, precision_score, recall_score,confusion_matrix,precision_recall_curve,roc_curve\n",
    "from sklearn.feature_selection import RFE\n",
    "from sklearn.linear_model import LogisticRegression\n",
    "from sklearn.ensemble import ExtraTreesClassifier,RandomForestClassifier,AdaBoostClassifier,GradientBoostingClassifier\n",
    "from sklearn.neighbors  import KNeighborsClassifier, NearestNeighbors\n",
    "from sklearn.tree import DecisionTreeClassifier\n",
    "from sklearn import svm,tree\n",
    "from sklearn.pipeline import Pipeline\n",
    "from sklearn.decomposition import PCA\n",
    "from sklearn.model_selection import GridSearchCV\n",
    "\n",
    "import operator\n",
    "from sklearn import tree\n",
    "from sklearn import preprocessing\n",
    "from sklearn.linear_model import LassoLarsCV\n",
    "from sklearn.metrics import mean_squared_error\n",
    "from sklearn.cluster import KMeans\n",
    "from scipy.spatial.distance import cdist\n",
    "from sklearn.decomposition import PCA\n",
    "import statsmodels.formula.api as smf\n",
    "import statsmodels.stats.multicomp as multi\n",
    "\n",
    "from sklearn.naive_bayes import GaussianNB\n",
    "from sklearn.naive_bayes import MultinomialNB\n",
    "from sklearn.naive_bayes import BernoulliNB\n",
    "\n",
    "from sklearn.metrics import classification_report\n",
    "from sklearn.metrics import confusion_matrix"
   ]
  },
  {
   "cell_type": "code",
   "execution_count": 2,
   "metadata": {},
   "outputs": [],
   "source": [
    "red = pd.read_csv('winequality-red.csv', sep=';')\n",
    "white = pd.read_csv('winequality-white.csv', sep=';')"
   ]
  },
  {
   "cell_type": "code",
   "execution_count": 3,
   "metadata": {},
   "outputs": [
    {
     "name": "stdout",
     "output_type": "stream",
     "text": [
      "<class 'pandas.core.frame.DataFrame'>\n",
      "RangeIndex: 1599 entries, 0 to 1598\n",
      "Data columns (total 12 columns):\n",
      "fixed acidity           1599 non-null float64\n",
      "volatile acidity        1599 non-null float64\n",
      "citric acid             1599 non-null float64\n",
      "residual sugar          1599 non-null float64\n",
      "chlorides               1599 non-null float64\n",
      "free sulfur dioxide     1599 non-null float64\n",
      "total sulfur dioxide    1599 non-null float64\n",
      "density                 1599 non-null float64\n",
      "pH                      1599 non-null float64\n",
      "sulphates               1599 non-null float64\n",
      "alcohol                 1599 non-null float64\n",
      "quality                 1599 non-null int64\n",
      "dtypes: float64(11), int64(1)\n",
      "memory usage: 150.0 KB\n",
      "None\n",
      "-------------------------\n",
      "<class 'pandas.core.frame.DataFrame'>\n",
      "RangeIndex: 4898 entries, 0 to 4897\n",
      "Data columns (total 12 columns):\n",
      "fixed acidity           4898 non-null float64\n",
      "volatile acidity        4898 non-null float64\n",
      "citric acid             4898 non-null float64\n",
      "residual sugar          4898 non-null float64\n",
      "chlorides               4898 non-null float64\n",
      "free sulfur dioxide     4898 non-null float64\n",
      "total sulfur dioxide    4898 non-null float64\n",
      "density                 4898 non-null float64\n",
      "pH                      4898 non-null float64\n",
      "sulphates               4898 non-null float64\n",
      "alcohol                 4898 non-null float64\n",
      "quality                 4898 non-null int64\n",
      "dtypes: float64(11), int64(1)\n",
      "memory usage: 459.3 KB\n",
      "None\n"
     ]
    }
   ],
   "source": [
    "print(red.info())\n",
    "\n",
    "print('-------------------------')\n",
    "\n",
    "print(white.info())"
   ]
  },
  {
   "cell_type": "code",
   "execution_count": 4,
   "metadata": {},
   "outputs": [
    {
     "data": {
      "text/plain": [
       "Index(['fixed acidity', 'volatile acidity', 'citric acid', 'residual sugar',\n",
       "       'chlorides', 'free sulfur dioxide', 'total sulfur dioxide', 'density',\n",
       "       'pH', 'sulphates', 'alcohol', 'quality'],\n",
       "      dtype='object')"
      ]
     },
     "execution_count": 4,
     "metadata": {},
     "output_type": "execute_result"
    }
   ],
   "source": [
    "red.columns"
   ]
  },
  {
   "cell_type": "code",
   "execution_count": 5,
   "metadata": {},
   "outputs": [
    {
     "data": {
      "text/plain": [
       "Index(['fixed acidity', 'volatile acidity', 'citric acid', 'residual sugar',\n",
       "       'chlorides', 'free sulfur dioxide', 'total sulfur dioxide', 'density',\n",
       "       'pH', 'sulphates', 'alcohol', 'quality'],\n",
       "      dtype='object')"
      ]
     },
     "execution_count": 5,
     "metadata": {},
     "output_type": "execute_result"
    }
   ],
   "source": [
    "white.columns"
   ]
  },
  {
   "cell_type": "code",
   "execution_count": 6,
   "metadata": {},
   "outputs": [],
   "source": [
    "# Add `type` column to `red` with value 1\n",
    "red['type'] = 1\n",
    "\n",
    "# Add `type` column to `white` with value 0\n",
    "white['type'] = 0\n",
    "\n",
    "# Append `white` to `red`\n",
    "wines = red.append(white, ignore_index=True)"
   ]
  },
  {
   "cell_type": "code",
   "execution_count": 7,
   "metadata": {},
   "outputs": [
    {
     "data": {
      "text/html": [
       "<div>\n",
       "<style scoped>\n",
       "    .dataframe tbody tr th:only-of-type {\n",
       "        vertical-align: middle;\n",
       "    }\n",
       "\n",
       "    .dataframe tbody tr th {\n",
       "        vertical-align: top;\n",
       "    }\n",
       "\n",
       "    .dataframe thead th {\n",
       "        text-align: right;\n",
       "    }\n",
       "</style>\n",
       "<table border=\"1\" class=\"dataframe\">\n",
       "  <thead>\n",
       "    <tr style=\"text-align: right;\">\n",
       "      <th></th>\n",
       "      <th>fixed acidity</th>\n",
       "      <th>volatile acidity</th>\n",
       "      <th>citric acid</th>\n",
       "      <th>residual sugar</th>\n",
       "      <th>chlorides</th>\n",
       "      <th>free sulfur dioxide</th>\n",
       "      <th>total sulfur dioxide</th>\n",
       "      <th>density</th>\n",
       "      <th>pH</th>\n",
       "      <th>sulphates</th>\n",
       "      <th>alcohol</th>\n",
       "      <th>quality</th>\n",
       "      <th>type</th>\n",
       "    </tr>\n",
       "  </thead>\n",
       "  <tbody>\n",
       "    <tr>\n",
       "      <th>0</th>\n",
       "      <td>7.4</td>\n",
       "      <td>0.70</td>\n",
       "      <td>0.00</td>\n",
       "      <td>1.9</td>\n",
       "      <td>0.076</td>\n",
       "      <td>11.0</td>\n",
       "      <td>34.0</td>\n",
       "      <td>0.9978</td>\n",
       "      <td>3.51</td>\n",
       "      <td>0.56</td>\n",
       "      <td>9.4</td>\n",
       "      <td>5</td>\n",
       "      <td>1</td>\n",
       "    </tr>\n",
       "    <tr>\n",
       "      <th>1</th>\n",
       "      <td>7.8</td>\n",
       "      <td>0.88</td>\n",
       "      <td>0.00</td>\n",
       "      <td>2.6</td>\n",
       "      <td>0.098</td>\n",
       "      <td>25.0</td>\n",
       "      <td>67.0</td>\n",
       "      <td>0.9968</td>\n",
       "      <td>3.20</td>\n",
       "      <td>0.68</td>\n",
       "      <td>9.8</td>\n",
       "      <td>5</td>\n",
       "      <td>1</td>\n",
       "    </tr>\n",
       "    <tr>\n",
       "      <th>2</th>\n",
       "      <td>7.8</td>\n",
       "      <td>0.76</td>\n",
       "      <td>0.04</td>\n",
       "      <td>2.3</td>\n",
       "      <td>0.092</td>\n",
       "      <td>15.0</td>\n",
       "      <td>54.0</td>\n",
       "      <td>0.9970</td>\n",
       "      <td>3.26</td>\n",
       "      <td>0.65</td>\n",
       "      <td>9.8</td>\n",
       "      <td>5</td>\n",
       "      <td>1</td>\n",
       "    </tr>\n",
       "    <tr>\n",
       "      <th>3</th>\n",
       "      <td>11.2</td>\n",
       "      <td>0.28</td>\n",
       "      <td>0.56</td>\n",
       "      <td>1.9</td>\n",
       "      <td>0.075</td>\n",
       "      <td>17.0</td>\n",
       "      <td>60.0</td>\n",
       "      <td>0.9980</td>\n",
       "      <td>3.16</td>\n",
       "      <td>0.58</td>\n",
       "      <td>9.8</td>\n",
       "      <td>6</td>\n",
       "      <td>1</td>\n",
       "    </tr>\n",
       "    <tr>\n",
       "      <th>4</th>\n",
       "      <td>7.4</td>\n",
       "      <td>0.70</td>\n",
       "      <td>0.00</td>\n",
       "      <td>1.9</td>\n",
       "      <td>0.076</td>\n",
       "      <td>11.0</td>\n",
       "      <td>34.0</td>\n",
       "      <td>0.9978</td>\n",
       "      <td>3.51</td>\n",
       "      <td>0.56</td>\n",
       "      <td>9.4</td>\n",
       "      <td>5</td>\n",
       "      <td>1</td>\n",
       "    </tr>\n",
       "  </tbody>\n",
       "</table>\n",
       "</div>"
      ],
      "text/plain": [
       "   fixed acidity  volatile acidity  citric acid  residual sugar  chlorides  \\\n",
       "0            7.4              0.70         0.00             1.9      0.076   \n",
       "1            7.8              0.88         0.00             2.6      0.098   \n",
       "2            7.8              0.76         0.04             2.3      0.092   \n",
       "3           11.2              0.28         0.56             1.9      0.075   \n",
       "4            7.4              0.70         0.00             1.9      0.076   \n",
       "\n",
       "   free sulfur dioxide  total sulfur dioxide  density    pH  sulphates  \\\n",
       "0                 11.0                  34.0   0.9978  3.51       0.56   \n",
       "1                 25.0                  67.0   0.9968  3.20       0.68   \n",
       "2                 15.0                  54.0   0.9970  3.26       0.65   \n",
       "3                 17.0                  60.0   0.9980  3.16       0.58   \n",
       "4                 11.0                  34.0   0.9978  3.51       0.56   \n",
       "\n",
       "   alcohol  quality  type  \n",
       "0      9.4        5     1  \n",
       "1      9.8        5     1  \n",
       "2      9.8        5     1  \n",
       "3      9.8        6     1  \n",
       "4      9.4        5     1  "
      ]
     },
     "execution_count": 7,
     "metadata": {},
     "output_type": "execute_result"
    }
   ],
   "source": [
    "red.head()"
   ]
  },
  {
   "cell_type": "code",
   "execution_count": 8,
   "metadata": {},
   "outputs": [
    {
     "data": {
      "text/html": [
       "<div>\n",
       "<style scoped>\n",
       "    .dataframe tbody tr th:only-of-type {\n",
       "        vertical-align: middle;\n",
       "    }\n",
       "\n",
       "    .dataframe tbody tr th {\n",
       "        vertical-align: top;\n",
       "    }\n",
       "\n",
       "    .dataframe thead th {\n",
       "        text-align: right;\n",
       "    }\n",
       "</style>\n",
       "<table border=\"1\" class=\"dataframe\">\n",
       "  <thead>\n",
       "    <tr style=\"text-align: right;\">\n",
       "      <th></th>\n",
       "      <th>fixed acidity</th>\n",
       "      <th>volatile acidity</th>\n",
       "      <th>citric acid</th>\n",
       "      <th>residual sugar</th>\n",
       "      <th>chlorides</th>\n",
       "      <th>free sulfur dioxide</th>\n",
       "      <th>total sulfur dioxide</th>\n",
       "      <th>density</th>\n",
       "      <th>pH</th>\n",
       "      <th>sulphates</th>\n",
       "      <th>alcohol</th>\n",
       "      <th>quality</th>\n",
       "      <th>type</th>\n",
       "    </tr>\n",
       "  </thead>\n",
       "  <tbody>\n",
       "    <tr>\n",
       "      <th>0</th>\n",
       "      <td>7.0</td>\n",
       "      <td>0.27</td>\n",
       "      <td>0.36</td>\n",
       "      <td>20.7</td>\n",
       "      <td>0.045</td>\n",
       "      <td>45.0</td>\n",
       "      <td>170.0</td>\n",
       "      <td>1.0010</td>\n",
       "      <td>3.00</td>\n",
       "      <td>0.45</td>\n",
       "      <td>8.8</td>\n",
       "      <td>6</td>\n",
       "      <td>0</td>\n",
       "    </tr>\n",
       "    <tr>\n",
       "      <th>1</th>\n",
       "      <td>6.3</td>\n",
       "      <td>0.30</td>\n",
       "      <td>0.34</td>\n",
       "      <td>1.6</td>\n",
       "      <td>0.049</td>\n",
       "      <td>14.0</td>\n",
       "      <td>132.0</td>\n",
       "      <td>0.9940</td>\n",
       "      <td>3.30</td>\n",
       "      <td>0.49</td>\n",
       "      <td>9.5</td>\n",
       "      <td>6</td>\n",
       "      <td>0</td>\n",
       "    </tr>\n",
       "    <tr>\n",
       "      <th>2</th>\n",
       "      <td>8.1</td>\n",
       "      <td>0.28</td>\n",
       "      <td>0.40</td>\n",
       "      <td>6.9</td>\n",
       "      <td>0.050</td>\n",
       "      <td>30.0</td>\n",
       "      <td>97.0</td>\n",
       "      <td>0.9951</td>\n",
       "      <td>3.26</td>\n",
       "      <td>0.44</td>\n",
       "      <td>10.1</td>\n",
       "      <td>6</td>\n",
       "      <td>0</td>\n",
       "    </tr>\n",
       "    <tr>\n",
       "      <th>3</th>\n",
       "      <td>7.2</td>\n",
       "      <td>0.23</td>\n",
       "      <td>0.32</td>\n",
       "      <td>8.5</td>\n",
       "      <td>0.058</td>\n",
       "      <td>47.0</td>\n",
       "      <td>186.0</td>\n",
       "      <td>0.9956</td>\n",
       "      <td>3.19</td>\n",
       "      <td>0.40</td>\n",
       "      <td>9.9</td>\n",
       "      <td>6</td>\n",
       "      <td>0</td>\n",
       "    </tr>\n",
       "    <tr>\n",
       "      <th>4</th>\n",
       "      <td>7.2</td>\n",
       "      <td>0.23</td>\n",
       "      <td>0.32</td>\n",
       "      <td>8.5</td>\n",
       "      <td>0.058</td>\n",
       "      <td>47.0</td>\n",
       "      <td>186.0</td>\n",
       "      <td>0.9956</td>\n",
       "      <td>3.19</td>\n",
       "      <td>0.40</td>\n",
       "      <td>9.9</td>\n",
       "      <td>6</td>\n",
       "      <td>0</td>\n",
       "    </tr>\n",
       "  </tbody>\n",
       "</table>\n",
       "</div>"
      ],
      "text/plain": [
       "   fixed acidity  volatile acidity  citric acid  residual sugar  chlorides  \\\n",
       "0            7.0              0.27         0.36            20.7      0.045   \n",
       "1            6.3              0.30         0.34             1.6      0.049   \n",
       "2            8.1              0.28         0.40             6.9      0.050   \n",
       "3            7.2              0.23         0.32             8.5      0.058   \n",
       "4            7.2              0.23         0.32             8.5      0.058   \n",
       "\n",
       "   free sulfur dioxide  total sulfur dioxide  density    pH  sulphates  \\\n",
       "0                 45.0                 170.0   1.0010  3.00       0.45   \n",
       "1                 14.0                 132.0   0.9940  3.30       0.49   \n",
       "2                 30.0                  97.0   0.9951  3.26       0.44   \n",
       "3                 47.0                 186.0   0.9956  3.19       0.40   \n",
       "4                 47.0                 186.0   0.9956  3.19       0.40   \n",
       "\n",
       "   alcohol  quality  type  \n",
       "0      8.8        6     0  \n",
       "1      9.5        6     0  \n",
       "2     10.1        6     0  \n",
       "3      9.9        6     0  \n",
       "4      9.9        6     0  "
      ]
     },
     "execution_count": 8,
     "metadata": {},
     "output_type": "execute_result"
    }
   ],
   "source": [
    "white.head()"
   ]
  },
  {
   "cell_type": "code",
   "execution_count": 9,
   "metadata": {},
   "outputs": [
    {
     "data": {
      "text/html": [
       "<div>\n",
       "<style scoped>\n",
       "    .dataframe tbody tr th:only-of-type {\n",
       "        vertical-align: middle;\n",
       "    }\n",
       "\n",
       "    .dataframe tbody tr th {\n",
       "        vertical-align: top;\n",
       "    }\n",
       "\n",
       "    .dataframe thead th {\n",
       "        text-align: right;\n",
       "    }\n",
       "</style>\n",
       "<table border=\"1\" class=\"dataframe\">\n",
       "  <thead>\n",
       "    <tr style=\"text-align: right;\">\n",
       "      <th></th>\n",
       "      <th>fixed acidity</th>\n",
       "      <th>volatile acidity</th>\n",
       "      <th>citric acid</th>\n",
       "      <th>residual sugar</th>\n",
       "      <th>chlorides</th>\n",
       "      <th>free sulfur dioxide</th>\n",
       "      <th>total sulfur dioxide</th>\n",
       "      <th>density</th>\n",
       "      <th>pH</th>\n",
       "      <th>sulphates</th>\n",
       "      <th>alcohol</th>\n",
       "      <th>quality</th>\n",
       "      <th>type</th>\n",
       "    </tr>\n",
       "  </thead>\n",
       "  <tbody>\n",
       "    <tr>\n",
       "      <th>count</th>\n",
       "      <td>6497.000000</td>\n",
       "      <td>6497.000000</td>\n",
       "      <td>6497.000000</td>\n",
       "      <td>6497.000000</td>\n",
       "      <td>6497.000000</td>\n",
       "      <td>6497.000000</td>\n",
       "      <td>6497.000000</td>\n",
       "      <td>6497.000000</td>\n",
       "      <td>6497.000000</td>\n",
       "      <td>6497.000000</td>\n",
       "      <td>6497.000000</td>\n",
       "      <td>6497.000000</td>\n",
       "      <td>6497.000000</td>\n",
       "    </tr>\n",
       "    <tr>\n",
       "      <th>mean</th>\n",
       "      <td>7.215307</td>\n",
       "      <td>0.339666</td>\n",
       "      <td>0.318633</td>\n",
       "      <td>5.443235</td>\n",
       "      <td>0.056034</td>\n",
       "      <td>30.525319</td>\n",
       "      <td>115.744574</td>\n",
       "      <td>0.994697</td>\n",
       "      <td>3.218501</td>\n",
       "      <td>0.531268</td>\n",
       "      <td>10.491801</td>\n",
       "      <td>5.818378</td>\n",
       "      <td>0.246114</td>\n",
       "    </tr>\n",
       "    <tr>\n",
       "      <th>std</th>\n",
       "      <td>1.296434</td>\n",
       "      <td>0.164636</td>\n",
       "      <td>0.145318</td>\n",
       "      <td>4.757804</td>\n",
       "      <td>0.035034</td>\n",
       "      <td>17.749400</td>\n",
       "      <td>56.521855</td>\n",
       "      <td>0.002999</td>\n",
       "      <td>0.160787</td>\n",
       "      <td>0.148806</td>\n",
       "      <td>1.192712</td>\n",
       "      <td>0.873255</td>\n",
       "      <td>0.430779</td>\n",
       "    </tr>\n",
       "    <tr>\n",
       "      <th>min</th>\n",
       "      <td>3.800000</td>\n",
       "      <td>0.080000</td>\n",
       "      <td>0.000000</td>\n",
       "      <td>0.600000</td>\n",
       "      <td>0.009000</td>\n",
       "      <td>1.000000</td>\n",
       "      <td>6.000000</td>\n",
       "      <td>0.987110</td>\n",
       "      <td>2.720000</td>\n",
       "      <td>0.220000</td>\n",
       "      <td>8.000000</td>\n",
       "      <td>3.000000</td>\n",
       "      <td>0.000000</td>\n",
       "    </tr>\n",
       "    <tr>\n",
       "      <th>25%</th>\n",
       "      <td>6.400000</td>\n",
       "      <td>0.230000</td>\n",
       "      <td>0.250000</td>\n",
       "      <td>1.800000</td>\n",
       "      <td>0.038000</td>\n",
       "      <td>17.000000</td>\n",
       "      <td>77.000000</td>\n",
       "      <td>0.992340</td>\n",
       "      <td>3.110000</td>\n",
       "      <td>0.430000</td>\n",
       "      <td>9.500000</td>\n",
       "      <td>5.000000</td>\n",
       "      <td>0.000000</td>\n",
       "    </tr>\n",
       "    <tr>\n",
       "      <th>50%</th>\n",
       "      <td>7.000000</td>\n",
       "      <td>0.290000</td>\n",
       "      <td>0.310000</td>\n",
       "      <td>3.000000</td>\n",
       "      <td>0.047000</td>\n",
       "      <td>29.000000</td>\n",
       "      <td>118.000000</td>\n",
       "      <td>0.994890</td>\n",
       "      <td>3.210000</td>\n",
       "      <td>0.510000</td>\n",
       "      <td>10.300000</td>\n",
       "      <td>6.000000</td>\n",
       "      <td>0.000000</td>\n",
       "    </tr>\n",
       "    <tr>\n",
       "      <th>75%</th>\n",
       "      <td>7.700000</td>\n",
       "      <td>0.400000</td>\n",
       "      <td>0.390000</td>\n",
       "      <td>8.100000</td>\n",
       "      <td>0.065000</td>\n",
       "      <td>41.000000</td>\n",
       "      <td>156.000000</td>\n",
       "      <td>0.996990</td>\n",
       "      <td>3.320000</td>\n",
       "      <td>0.600000</td>\n",
       "      <td>11.300000</td>\n",
       "      <td>6.000000</td>\n",
       "      <td>0.000000</td>\n",
       "    </tr>\n",
       "    <tr>\n",
       "      <th>max</th>\n",
       "      <td>15.900000</td>\n",
       "      <td>1.580000</td>\n",
       "      <td>1.660000</td>\n",
       "      <td>65.800000</td>\n",
       "      <td>0.611000</td>\n",
       "      <td>289.000000</td>\n",
       "      <td>440.000000</td>\n",
       "      <td>1.038980</td>\n",
       "      <td>4.010000</td>\n",
       "      <td>2.000000</td>\n",
       "      <td>14.900000</td>\n",
       "      <td>9.000000</td>\n",
       "      <td>1.000000</td>\n",
       "    </tr>\n",
       "  </tbody>\n",
       "</table>\n",
       "</div>"
      ],
      "text/plain": [
       "       fixed acidity  volatile acidity  citric acid  residual sugar  \\\n",
       "count    6497.000000       6497.000000  6497.000000     6497.000000   \n",
       "mean        7.215307          0.339666     0.318633        5.443235   \n",
       "std         1.296434          0.164636     0.145318        4.757804   \n",
       "min         3.800000          0.080000     0.000000        0.600000   \n",
       "25%         6.400000          0.230000     0.250000        1.800000   \n",
       "50%         7.000000          0.290000     0.310000        3.000000   \n",
       "75%         7.700000          0.400000     0.390000        8.100000   \n",
       "max        15.900000          1.580000     1.660000       65.800000   \n",
       "\n",
       "         chlorides  free sulfur dioxide  total sulfur dioxide      density  \\\n",
       "count  6497.000000          6497.000000           6497.000000  6497.000000   \n",
       "mean      0.056034            30.525319            115.744574     0.994697   \n",
       "std       0.035034            17.749400             56.521855     0.002999   \n",
       "min       0.009000             1.000000              6.000000     0.987110   \n",
       "25%       0.038000            17.000000             77.000000     0.992340   \n",
       "50%       0.047000            29.000000            118.000000     0.994890   \n",
       "75%       0.065000            41.000000            156.000000     0.996990   \n",
       "max       0.611000           289.000000            440.000000     1.038980   \n",
       "\n",
       "                pH    sulphates      alcohol      quality         type  \n",
       "count  6497.000000  6497.000000  6497.000000  6497.000000  6497.000000  \n",
       "mean      3.218501     0.531268    10.491801     5.818378     0.246114  \n",
       "std       0.160787     0.148806     1.192712     0.873255     0.430779  \n",
       "min       2.720000     0.220000     8.000000     3.000000     0.000000  \n",
       "25%       3.110000     0.430000     9.500000     5.000000     0.000000  \n",
       "50%       3.210000     0.510000    10.300000     6.000000     0.000000  \n",
       "75%       3.320000     0.600000    11.300000     6.000000     0.000000  \n",
       "max       4.010000     2.000000    14.900000     9.000000     1.000000  "
      ]
     },
     "execution_count": 9,
     "metadata": {},
     "output_type": "execute_result"
    }
   ],
   "source": [
    "wines.describe()"
   ]
  },
  {
   "cell_type": "code",
   "execution_count": 10,
   "metadata": {},
   "outputs": [
    {
     "data": {
      "text/plain": [
       "fixed acidity           False\n",
       "volatile acidity        False\n",
       "citric acid             False\n",
       "residual sugar          False\n",
       "chlorides               False\n",
       "free sulfur dioxide     False\n",
       "total sulfur dioxide    False\n",
       "density                 False\n",
       "pH                      False\n",
       "sulphates               False\n",
       "alcohol                 False\n",
       "quality                 False\n",
       "type                    False\n",
       "dtype: bool"
      ]
     },
     "execution_count": 10,
     "metadata": {},
     "output_type": "execute_result"
    }
   ],
   "source": [
    "wines.isnull().any()"
   ]
  },
  {
   "cell_type": "code",
   "execution_count": 11,
   "metadata": {},
   "outputs": [
    {
     "data": {
      "image/png": "[encoded data removed]",
      "text/plain": [
       "<Figure size 432x288 with 2 Axes>"
      ]
     },
     "metadata": {
      "needs_background": "light"
     },
     "output_type": "display_data"
    }
   ],
   "source": [
    "import seaborn as sns\n",
    "corr = wines.corr()\n",
    "sns.heatmap(corr, \n",
    "            xticklabels=corr.columns.values,\n",
    "            yticklabels=corr.columns.values)\n",
    "plt.show()"
   ]
  },
  {
   "cell_type": "code",
   "execution_count": 12,
   "metadata": {},
   "outputs": [
    {
     "data": {
      "image/png": "[encoded data removed]",
      "text/plain": [
       "<Figure size 792x648 with 2 Axes>"
      ]
     },
     "metadata": {
      "needs_background": "light"
     },
     "output_type": "display_data"
    }
   ],
   "source": [
    "#Visualize correlation via heatmap\n",
    "#Setting up correlation for our dataframe and passing it to seaborn heatmap function\n",
    "corr = wines.corr()\n",
    "mask = np.zeros_like(corr, dtype=np.bool)\n",
    "mask[np.triu_indices_from(mask)] = True\n",
    "f, ax = plt.subplots(figsize=(11,9))\n",
    "cmap = sns.diverging_palette(325, 200, as_cmap=True)\n",
    "sns.heatmap(corr,annot=True, \n",
    "            fmt='.1%',\n",
    "            mask=mask,\n",
    "            cmap=cmap,\n",
    "            vmax=.9,\n",
    "            center=0,\n",
    "            square=True,\n",
    "            linewidths=.5,\n",
    "            cbar_kws={\"shrink\": .5});"
   ]
  },
  {
   "cell_type": "code",
   "execution_count": 13,
   "metadata": {},
   "outputs": [],
   "source": [
    "# Import `train_test_split` from `sklearn.model_selection`\n",
    "from sklearn.model_selection import train_test_split\n",
    "\n",
    "# Specify the data \n",
    "X=wines.ix[:,0:11]\n",
    "\n",
    "# Specify the target labels and flatten the array \n",
    "y=np.ravel(wines.type)\n",
    "\n",
    "# Split the data up in train and test sets\n",
    "X_train, X_test, y_train, y_test = train_test_split(X, y, test_size=0.25, random_state=42)"
   ]
  },
  {
   "cell_type": "code",
   "execution_count": 18,
   "metadata": {},
   "outputs": [],
   "source": [
    "# Import `StandardScaler` from `sklearn.preprocessing`\n",
    "from sklearn.preprocessing import StandardScaler\n",
    "\n",
    "# Define the scaler \n",
    "scaler = StandardScaler().fit(X_train)\n",
    "\n",
    "# Scale the train set\n",
    "X_train = scaler.transform(X_train)\n",
    "\n",
    "# Scale the test set\n",
    "X_test = scaler.transform(X_test)"
   ]
  },
  {
   "cell_type": "code",
   "execution_count": 21,
   "metadata": {},
   "outputs": [
    {
     "name": "stderr",
     "output_type": "stream",
     "text": [
      "Using TensorFlow backend.\n",
      "WARNING: Logging before flag parsing goes to stderr.\n",
      "W0826 21:12:08.280585 10872 deprecation_wrapper.py:119] From C:\\Users\\lasha\\Anaconda3\\envs\\learn-env\\lib\\site-packages\\keras\\backend\\tensorflow_backend.py:74: The name tf.get_default_graph is deprecated. Please use tf.compat.v1.get_default_graph instead.\n",
      "\n",
      "W0826 21:12:08.310494 10872 deprecation_wrapper.py:119] From C:\\Users\\lasha\\Anaconda3\\envs\\learn-env\\lib\\site-packages\\keras\\backend\\tensorflow_backend.py:517: The name tf.placeholder is deprecated. Please use tf.compat.v1.placeholder instead.\n",
      "\n",
      "W0826 21:12:08.316477 10872 deprecation_wrapper.py:119] From C:\\Users\\lasha\\Anaconda3\\envs\\learn-env\\lib\\site-packages\\keras\\backend\\tensorflow_backend.py:4138: The name tf.random_uniform is deprecated. Please use tf.random.uniform instead.\n",
      "\n"
     ]
    }
   ],
   "source": [
    "# Import `Sequential` from `keras.models`\n",
    "from keras.models import Sequential\n",
    "\n",
    "# Import `Dense` from `keras.layers`\n",
    "from keras.layers import Dense\n",
    "\n",
    "# Initialize the constructor\n",
    "model = Sequential()\n",
    "\n",
    "# Add an input layer \n",
    "model.add(Dense(12, activation='relu', input_shape=(11,)))\n",
    "\n",
    "# Add one hidden layer \n",
    "model.add(Dense(8, activation='relu'))\n",
    "\n",
    "# Add an output layer \n",
    "model.add(Dense(1, activation='sigmoid'))"
   ]
  },
  {
   "cell_type": "code",
   "execution_count": 22,
   "metadata": {},
   "outputs": [
    {
     "name": "stderr",
     "output_type": "stream",
     "text": [
      "W0826 21:12:08.403246 10872 deprecation_wrapper.py:119] From C:\\Users\\lasha\\Anaconda3\\envs\\learn-env\\lib\\site-packages\\keras\\backend\\tensorflow_backend.py:174: The name tf.get_default_session is deprecated. Please use tf.compat.v1.get_default_session instead.\n",
      "\n",
      "W0826 21:12:08.404242 10872 deprecation_wrapper.py:119] From C:\\Users\\lasha\\Anaconda3\\envs\\learn-env\\lib\\site-packages\\keras\\backend\\tensorflow_backend.py:181: The name tf.ConfigProto is deprecated. Please use tf.compat.v1.ConfigProto instead.\n",
      "\n"
     ]
    },
    {
     "name": "stdout",
     "output_type": "stream",
     "text": [
      "_________________________________________________________________\n",
      "Layer (type)                 Output Shape              Param #   \n",
      "=================================================================\n",
      "dense_1 (Dense)              (None, 12)                144       \n",
      "_________________________________________________________________\n",
      "dense_2 (Dense)              (None, 8)                 104       \n",
      "_________________________________________________________________\n",
      "dense_3 (Dense)              (None, 1)                 9         \n",
      "=================================================================\n",
      "Total params: 257\n",
      "Trainable params: 257\n",
      "Non-trainable params: 0\n",
      "_________________________________________________________________\n"
     ]
    },
    {
     "data": {
      "text/plain": [
       "[array([[-0.19060043,  0.17801589, -0.18978003, -0.28220555, -0.49878642,\n",
       "          0.05122256, -0.49236143,  0.05097038,  0.5011658 , -0.4807098 ,\n",
       "         -0.22601587,  0.21335864],\n",
       "        [-0.2703597 ,  0.45018882, -0.15848139,  0.0513261 , -0.23879024,\n",
       "          0.46604174,  0.16846824,  0.20204794,  0.37535113,  0.22323543,\n",
       "         -0.23025978, -0.40545297],\n",
       "        [ 0.47965986, -0.37105203, -0.35324186, -0.01150951,  0.2260161 ,\n",
       "         -0.36801282, -0.31146243, -0.00354701,  0.2970475 , -0.26547807,\n",
       "          0.08011425, -0.36177912],\n",
       "        [ 0.35586888, -0.11846489,  0.12843704, -0.20161176, -0.04001236,\n",
       "         -0.36653814,  0.13331681,  0.01516622,  0.44258976,  0.444638  ,\n",
       "          0.32625192, -0.44097167],\n",
       "        [-0.03021938,  0.1998725 , -0.00313288, -0.38408154,  0.06143469,\n",
       "          0.2293644 , -0.40151715, -0.46913075,  0.16867977, -0.12820455,\n",
       "         -0.49398893, -0.3462333 ],\n",
       "        [-0.2736084 , -0.19304869, -0.02968648, -0.34774685, -0.4222757 ,\n",
       "         -0.11587381,  0.12875545, -0.1869236 , -0.43434525,  0.02625394,\n",
       "          0.37946874,  0.46997046],\n",
       "        [ 0.3780563 , -0.29365832,  0.38581824,  0.143547  ,  0.18520927,\n",
       "         -0.37992528,  0.39587134, -0.25717154,  0.42038238, -0.48698622,\n",
       "          0.24226308, -0.26873574],\n",
       "        [ 0.0104546 , -0.41619688,  0.46021742, -0.4868222 ,  0.505405  ,\n",
       "         -0.09359211,  0.05398059,  0.29442734, -0.20906699,  0.10234964,\n",
       "         -0.32743007,  0.4575572 ],\n",
       "        [-0.30198312, -0.2578833 , -0.18475166, -0.32901067,  0.431863  ,\n",
       "          0.13353604,  0.3707906 ,  0.15535241, -0.12789428,  0.02917224,\n",
       "         -0.29277328, -0.19557583],\n",
       "        [ 0.42584205, -0.01093352, -0.13478604, -0.14842671, -0.34499195,\n",
       "          0.25745463, -0.25701737,  0.09490591, -0.50224537, -0.10153744,\n",
       "         -0.23949677,  0.2596321 ],\n",
       "        [ 0.14749599, -0.4743732 ,  0.23288763,  0.16859931, -0.17518029,\n",
       "          0.24365395,  0.27038914, -0.29596192, -0.29976648,  0.35919756,\n",
       "          0.11809504,  0.29378694]], dtype=float32),\n",
       " array([0., 0., 0., 0., 0., 0., 0., 0., 0., 0., 0., 0.], dtype=float32),\n",
       " array([[ 0.52085924,  0.09111279, -0.3222701 , -0.23149684, -0.24757159,\n",
       "         -0.39970702,  0.05430102,  0.00479227],\n",
       "        [-0.16795883,  0.20628762,  0.48860443, -0.4428012 , -0.17911595,\n",
       "         -0.181276  ,  0.48485565, -0.30818707],\n",
       "        [-0.48752186, -0.42023367, -0.19383273, -0.08555084, -0.32561707,\n",
       "         -0.06069696,  0.0480876 ,  0.3861171 ],\n",
       "        [ 0.11416471,  0.09157276,  0.40287834,  0.5402894 , -0.39764208,\n",
       "         -0.12862596, -0.36886364,  0.1839081 ],\n",
       "        [ 0.42963308,  0.03279334, -0.45445967, -0.17761889,  0.36696112,\n",
       "          0.5052196 ,  0.02444059,  0.21455169],\n",
       "        [ 0.33538342, -0.21141851,  0.3568564 , -0.21855941,  0.43996215,\n",
       "          0.50031245, -0.03779197,  0.3397944 ],\n",
       "        [-0.23584381, -0.16889447,  0.42302835,  0.5181513 , -0.35533062,\n",
       "         -0.5034129 ,  0.10036206, -0.04622203],\n",
       "        [-0.44940397, -0.47434273, -0.1153754 , -0.00509918,  0.3613152 ,\n",
       "         -0.02367061, -0.31773418,  0.44745326],\n",
       "        [-0.06346473, -0.09307605, -0.48424268,  0.07834166,  0.45539927,\n",
       "          0.4769634 ,  0.3814823 , -0.40841383],\n",
       "        [-0.35691202, -0.21388778, -0.00293165, -0.2694059 ,  0.5436032 ,\n",
       "          0.0913592 ,  0.04154009,  0.45603967],\n",
       "        [-0.07654437, -0.18858442,  0.40326476,  0.4096694 ,  0.20596874,\n",
       "          0.5346645 ,  0.546669  , -0.33365184],\n",
       "        [ 0.44233805,  0.29083568,  0.06819516,  0.34013695,  0.3192948 ,\n",
       "         -0.30894002, -0.13083914, -0.49048424]], dtype=float32),\n",
       " array([0., 0., 0., 0., 0., 0., 0., 0.], dtype=float32),\n",
       " array([[ 0.38568318],\n",
       "        [ 0.7768291 ],\n",
       "        [-0.04292798],\n",
       "        [-0.543862  ],\n",
       "        [ 0.41672826],\n",
       "        [ 0.6273637 ],\n",
       "        [-0.26909208],\n",
       "        [-0.3008572 ]], dtype=float32),\n",
       " array([0.], dtype=float32)]"
      ]
     },
     "execution_count": 22,
     "metadata": {},
     "output_type": "execute_result"
    }
   ],
   "source": [
    "# Model output shape\n",
    "model.output_shape\n",
    "\n",
    "# Model summary\n",
    "model.summary()\n",
    "\n",
    "# Model config\n",
    "model.get_config()\n",
    "\n",
    "# List all weight tensors \n",
    "model.get_weights()"
   ]
  },
  {
   "cell_type": "code",
   "execution_count": 23,
   "metadata": {},
   "outputs": [
    {
     "name": "stderr",
     "output_type": "stream",
     "text": [
      "W0826 21:12:08.504974 10872 deprecation_wrapper.py:119] From C:\\Users\\lasha\\Anaconda3\\envs\\learn-env\\lib\\site-packages\\keras\\optimizers.py:790: The name tf.train.Optimizer is deprecated. Please use tf.compat.v1.train.Optimizer instead.\n",
      "\n",
      "W0826 21:12:08.553848 10872 deprecation.py:323] From C:\\Users\\lasha\\Anaconda3\\envs\\learn-env\\lib\\site-packages\\tensorflow\\python\\ops\\nn_impl.py:180: add_dispatch_support.<locals>.wrapper (from tensorflow.python.ops.array_ops) is deprecated and will be removed in a future version.\n",
      "Instructions for updating:\n",
      "Use tf.where in 2.0, which has the same broadcast rule as np.where\n"
     ]
    },
    {
     "name": "stdout",
     "output_type": "stream",
     "text": [
      "Epoch 1/20\n",
      "4872/4872 [==============================] - 10s 2ms/step - loss: 0.0596 - acc: 0.9887\n",
      "Epoch 2/20\n",
      "4872/4872 [==============================] - ETA: 0s - loss: 0.0267 - acc: 0.994 - 7s 1ms/step - loss: 0.0266 - acc: 0.9945\n",
      "Epoch 3/20\n",
      "4872/4872 [==============================] - 8s 2ms/step - loss: 0.0205 - acc: 0.9955\n",
      "Epoch 4/20\n",
      "4872/4872 [==============================] - 7s 2ms/step - loss: 0.0194 - acc: 0.9963\n",
      "Epoch 5/20\n",
      "4872/4872 [==============================] - 7s 1ms/step - loss: 0.0180 - acc: 0.9963\n",
      "Epoch 6/20\n",
      "4872/4872 [==============================] - 7s 1ms/step - loss: 0.0167 - acc: 0.9965\n",
      "Epoch 7/20\n",
      "4872/4872 [==============================] - 8s 2ms/step - loss: 0.0188 - acc: 0.9961\n",
      "Epoch 8/20\n",
      "4872/4872 [==============================] - 7s 1ms/step - loss: 0.0149 - acc: 0.9969\n",
      "Epoch 9/20\n",
      "4872/4872 [==============================] - 6s 1ms/step - loss: 0.0155 - acc: 0.9967\n",
      "Epoch 10/20\n",
      "4872/4872 [==============================] - 7s 1ms/step - loss: 0.0142 - acc: 0.9971\n",
      "Epoch 11/20\n",
      "4872/4872 [==============================] - 7s 1ms/step - loss: 0.0146 - acc: 0.9975\n",
      "Epoch 12/20\n",
      "4872/4872 [==============================] - 7s 1ms/step - loss: 0.0144 - acc: 0.9969\n",
      "Epoch 13/20\n",
      "4872/4872 [==============================] - 7s 1ms/step - loss: 0.0125 - acc: 0.9977\n",
      "Epoch 14/20\n",
      "4872/4872 [==============================] - 7s 1ms/step - loss: 0.0145 - acc: 0.9967\n",
      "Epoch 15/20\n",
      "4872/4872 [==============================] - 7s 1ms/step - loss: 0.0125 - acc: 0.9973\n",
      "Epoch 16/20\n",
      "4872/4872 [==============================] - 7s 1ms/step - loss: 0.0120 - acc: 0.9973\n",
      "Epoch 17/20\n",
      "4872/4872 [==============================] - 6s 1ms/step - loss: 0.0124 - acc: 0.9971\n",
      "Epoch 18/20\n",
      "4872/4872 [==============================] - 7s 1ms/step - loss: 0.0115 - acc: 0.9977\n",
      "Epoch 19/20\n",
      "4872/4872 [==============================] - 7s 1ms/step - loss: 0.0121 - acc: 0.9975\n",
      "Epoch 20/20\n",
      "4872/4872 [==============================] - 6s 1ms/step - loss: 0.0114 - acc: 0.9977\n"
     ]
    },
    {
     "data": {
      "text/plain": [
       "<keras.callbacks.History at 0x2665e922278>"
      ]
     },
     "execution_count": 23,
     "metadata": {},
     "output_type": "execute_result"
    }
   ],
   "source": [
    "model.compile(loss='binary_crossentropy',\n",
    "              optimizer='adam',\n",
    "              metrics=['accuracy'])\n",
    "                   \n",
    "model.fit(X_train, y_train,epochs=20, batch_size=1, verbose=1)"
   ]
  },
  {
   "cell_type": "code",
   "execution_count": 24,
   "metadata": {},
   "outputs": [],
   "source": [
    "y_pred = model.predict(X_test)"
   ]
  },
  {
   "cell_type": "code",
   "execution_count": 25,
   "metadata": {},
   "outputs": [
    {
     "data": {
      "text/plain": [
       "array([0, 1, 0, 0, 0], dtype=int64)"
      ]
     },
     "execution_count": 25,
     "metadata": {},
     "output_type": "execute_result"
    }
   ],
   "source": [
    "y_test[:5]"
   ]
  },
  {
   "cell_type": "code",
   "execution_count": 26,
   "metadata": {},
   "outputs": [
    {
     "name": "stdout",
     "output_type": "stream",
     "text": [
      "1625/1625 [==============================] - 0s 38us/step\n",
      "[0.022452732348850427, 0.9944615384615385]\n"
     ]
    }
   ],
   "source": [
    "score = model.evaluate(X_test, y_test,verbose=1)\n",
    "\n",
    "print(score)"
   ]
  },
  {
   "cell_type": "code",
   "execution_count": null,
   "metadata": {},
   "outputs": [],
   "source": []
  },
  {
   "cell_type": "code",
   "execution_count": 37,
   "metadata": {},
   "outputs": [],
   "source": [
    "# Isolate target labels\n",
    "y = wines.quality\n",
    "\n",
    "# Isolate data\n",
    "X = wines.drop('quality', axis=1) "
   ]
  },
  {
   "cell_type": "code",
   "execution_count": 38,
   "metadata": {},
   "outputs": [],
   "source": [
    "# Scale the data with `StandardScaler`\n",
    "X = StandardScaler().fit_transform(X)"
   ]
  },
  {
   "cell_type": "code",
   "execution_count": 39,
   "metadata": {},
   "outputs": [],
   "source": [
    "# Import `Sequential` from `keras.models`\n",
    "from keras.models import Sequential\n",
    "\n",
    "# Import `Dense` from `keras.layers`\n",
    "from keras.layers import Dense\n",
    "\n",
    "# Initialize the model\n",
    "model = Sequential()\n",
    "\n",
    "# Add input layer \n",
    "model.add(Dense(64, input_dim=12, activation='relu'))\n",
    "    \n",
    "# Add output layer \n",
    "model.add(Dense(1))"
   ]
  },
  {
   "cell_type": "code",
   "execution_count": 42,
   "metadata": {},
   "outputs": [
    {
     "name": "stdout",
     "output_type": "stream",
     "text": [
      "Epoch 1/10\n",
      "5195/5195 [==============================] - 0s 74us/step - loss: 14.2576 - mean_absolute_error: 3.3457\n",
      "Epoch 2/10\n",
      "5195/5195 [==============================] - 0s 37us/step - loss: 1.6629 - mean_absolute_error: 1.0018\n",
      "Epoch 3/10\n",
      "5195/5195 [==============================] - 0s 53us/step - loss: 1.0362 - mean_absolute_error: 0.7853\n",
      "Epoch 4/10\n",
      "5195/5195 [==============================] - 0s 42us/step - loss: 0.7782 - mean_absolute_error: 0.6787\n",
      "Epoch 5/10\n",
      "5195/5195 [==============================] - 0s 37us/step - loss: 0.6443 - mean_absolute_error: 0.6187\n",
      "Epoch 6/10\n",
      "5195/5195 [==============================] - 0s 38us/step - loss: 0.5852 - mean_absolute_error: 0.5913\n",
      "Epoch 7/10\n",
      "5195/5195 [==============================] - 0s 36us/step - loss: 0.5511 - mean_absolute_error: 0.5773\n",
      "Epoch 8/10\n",
      "5195/5195 [==============================] - 0s 42us/step - loss: 0.5263 - mean_absolute_error: 0.5649\n",
      "Epoch 9/10\n",
      "5195/5195 [==============================] - 0s 46us/step - loss: 0.5128 - mean_absolute_error: 0.5582\n",
      "Epoch 10/10\n",
      "5195/5195 [==============================] - 0s 57us/step - loss: 0.5010 - mean_absolute_error: 0.5527\n",
      "Epoch 1/10\n",
      "5197/5197 [==============================] - 0s 87us/step - loss: 12.4715 - mean_absolute_error: 3.1039\n",
      "Epoch 2/10\n",
      "5197/5197 [==============================] - 0s 44us/step - loss: 1.5051 - mean_absolute_error: 0.9504\n",
      "Epoch 3/10\n",
      "5197/5197 [==============================] - 0s 48us/step - loss: 0.9352 - mean_absolute_error: 0.7493\n",
      "Epoch 4/10\n",
      "5197/5197 [==============================] - 0s 65us/step - loss: 0.7185 - mean_absolute_error: 0.6590\n",
      "Epoch 5/10\n",
      "5197/5197 [==============================] - 0s 57us/step - loss: 0.6197 - mean_absolute_error: 0.6112\n",
      "Epoch 6/10\n",
      "5197/5197 [==============================] - 0s 37us/step - loss: 0.5637 - mean_absolute_error: 0.5847\n",
      "Epoch 7/10\n",
      "5197/5197 [==============================] - 0s 79us/step - loss: 0.5377 - mean_absolute_error: 0.5698\n",
      "Epoch 8/10\n",
      "5197/5197 [==============================] - 0s 87us/step - loss: 0.5166 - mean_absolute_error: 0.5597\n",
      "Epoch 9/10\n",
      "5197/5197 [==============================] - 1s 99us/step - loss: 0.5021 - mean_absolute_error: 0.5498\n",
      "Epoch 10/10\n",
      "5197/5197 [==============================] - 0s 93us/step - loss: 0.4948 - mean_absolute_error: 0.5465\n",
      "Epoch 1/10\n",
      "5197/5197 [==============================] - 1s 174us/step - loss: 13.1266 - mean_absolute_error: 3.1861\n",
      "Epoch 2/10\n",
      "5197/5197 [==============================] - 0s 36us/step - loss: 1.5633 - mean_absolute_error: 0.9607\n",
      "Epoch 3/10\n",
      "5197/5197 [==============================] - 0s 30us/step - loss: 0.9597 - mean_absolute_error: 0.7517\n",
      "Epoch 4/10\n",
      "5197/5197 [==============================] - 0s 34us/step - loss: 0.7308 - mean_absolute_error: 0.6546\n",
      "Epoch 5/10\n",
      "5197/5197 [==============================] - 0s 36us/step - loss: 0.6163 - mean_absolute_error: 0.6046\n",
      "Epoch 6/10\n",
      "5197/5197 [==============================] - 0s 31us/step - loss: 0.5563 - mean_absolute_error: 0.5773\n",
      "Epoch 7/10\n",
      "5197/5197 [==============================] - 0s 29us/step - loss: 0.5257 - mean_absolute_error: 0.5620\n",
      "Epoch 8/10\n",
      "5197/5197 [==============================] - 0s 29us/step - loss: 0.5080 - mean_absolute_error: 0.5551\n",
      "Epoch 9/10\n",
      "5197/5197 [==============================] - 0s 30us/step - loss: 0.4961 - mean_absolute_error: 0.5491\n",
      "Epoch 10/10\n",
      "5197/5197 [==============================] - 0s 31us/step - loss: 0.4872 - mean_absolute_error: 0.5447\n",
      "Epoch 1/10\n",
      "5199/5199 [==============================] - 0s 86us/step - loss: 13.0713 - mean_absolute_error: 3.1693\n",
      "Epoch 2/10\n",
      "5199/5199 [==============================] - 0s 35us/step - loss: 1.5564 - mean_absolute_error: 0.9646\n",
      "Epoch 3/10\n",
      "5199/5199 [==============================] - 0s 32us/step - loss: 0.9818 - mean_absolute_error: 0.7641\n",
      "Epoch 4/10\n",
      "5199/5199 [==============================] - 0s 31us/step - loss: 0.7300 - mean_absolute_error: 0.6568\n",
      "Epoch 5/10\n",
      "5199/5199 [==============================] - 0s 35us/step - loss: 0.6209 - mean_absolute_error: 0.6029\n",
      "Epoch 6/10\n",
      "5199/5199 [==============================] - 0s 31us/step - loss: 0.5667 - mean_absolute_error: 0.5763\n",
      "Epoch 7/10\n",
      "5199/5199 [==============================] - 0s 30us/step - loss: 0.5363 - mean_absolute_error: 0.5626\n",
      "Epoch 8/10\n",
      "5199/5199 [==============================] - 0s 27us/step - loss: 0.5162 - mean_absolute_error: 0.5534\n",
      "Epoch 9/10\n",
      "5199/5199 [==============================] - 0s 29us/step - loss: 0.5029 - mean_absolute_error: 0.5465\n",
      "Epoch 10/10\n",
      "5199/5199 [==============================] - 0s 29us/step - loss: 0.4949 - mean_absolute_error: 0.5428\n",
      "Epoch 1/10\n",
      "5200/5200 [==============================] - 0s 85us/step - loss: 11.8302 - mean_absolute_error: 2.9679\n",
      "Epoch 2/10\n",
      "5200/5200 [==============================] - 0s 30us/step - loss: 1.6024 - mean_absolute_error: 0.9820\n",
      "Epoch 3/10\n",
      "5200/5200 [==============================] - 0s 32us/step - loss: 1.0069 - mean_absolute_error: 0.7746\n",
      "Epoch 4/10\n",
      "5200/5200 [==============================] - 0s 28us/step - loss: 0.7713 - mean_absolute_error: 0.6727\n",
      "Epoch 5/10\n",
      "5200/5200 [==============================] - 0s 28us/step - loss: 0.6512 - mean_absolute_error: 0.6167\n",
      "Epoch 6/10\n",
      "5200/5200 [==============================] - ETA: 0s - loss: 0.6052 - mean_absolute_error: 0.595 - 0s 28us/step - loss: 0.5893 - mean_absolute_error: 0.5870\n",
      "Epoch 7/10\n",
      "5200/5200 [==============================] - 0s 32us/step - loss: 0.5515 - mean_absolute_error: 0.5723\n",
      "Epoch 8/10\n",
      "5200/5200 [==============================] - 0s 27us/step - loss: 0.5306 - mean_absolute_error: 0.5597\n",
      "Epoch 9/10\n",
      "5200/5200 [==============================] - 0s 31us/step - loss: 0.5134 - mean_absolute_error: 0.5540\n",
      "Epoch 10/10\n",
      "5200/5200 [==============================] - 0s 36us/step - loss: 0.5012 - mean_absolute_error: 0.5473\n"
     ]
    }
   ],
   "source": [
    "import numpy as np\n",
    "from sklearn.model_selection import StratifiedKFold\n",
    "\n",
    "seed = 7\n",
    "np.random.seed(seed)\n",
    "\n",
    "kfold = StratifiedKFold(n_splits=5, shuffle=True, random_state=seed)\n",
    "for train, test in kfold.split(X, y):\n",
    "    model = Sequential()\n",
    "    model.add(Dense(64, input_dim=12, activation='relu'))\n",
    "    model.add(Dense(1))\n",
    "    model.compile(optimizer='rmsprop', loss='mse', metrics=['mae'])\n",
    "    model.fit(X[train], y[train], epochs=10, verbose=1)"
   ]
  },
  {
   "cell_type": "code",
   "execution_count": 44,
   "metadata": {},
   "outputs": [
    {
     "name": "stdout",
     "output_type": "stream",
     "text": [
      "0.4864626547282902\n"
     ]
    }
   ],
   "source": [
    "mse_value, mae_value = model.evaluate(X[test], y[test], verbose=0)\n",
    "\n",
    "print(mse_value)"
   ]
  },
  {
   "cell_type": "code",
   "execution_count": 45,
   "metadata": {},
   "outputs": [
    {
     "name": "stdout",
     "output_type": "stream",
     "text": [
      "0.5482290507557765\n"
     ]
    }
   ],
   "source": [
    "print(mae_value)"
   ]
  },
  {
   "cell_type": "code",
   "execution_count": null,
   "metadata": {},
   "outputs": [],
   "source": []
  },
  {
   "cell_type": "code",
   "execution_count": null,
   "metadata": {},
   "outputs": [],
   "source": []
  },
  {
   "cell_type": "code",
   "execution_count": 57,
   "metadata": {},
   "outputs": [],
   "source": [
    "#Adding another layer\n",
    "model = Sequential()\n",
    "model.add(Dense(64, input_dim=12, activation='relu'))\n",
    "model.add(Dense(64, activation='relu'))\n",
    "model.add(Dense(1))\n"
   ]
  },
  {
   "cell_type": "code",
   "execution_count": 58,
   "metadata": {},
   "outputs": [],
   "source": [
    "model = Sequential()\n",
    "model.add(Dense(128, input_dim=12, activation='relu'))\n",
    "model.add(Dense(1))"
   ]
  },
  {
   "cell_type": "code",
   "execution_count": 59,
   "metadata": {},
   "outputs": [],
   "source": [
    "from keras.optimizers import RMSprop\n",
    "rmsprop = RMSprop(lr=0.0001)\n",
    "model.compile(optimizer=rmsprop, loss='mse', metrics=['mae'])"
   ]
  },
  {
   "cell_type": "code",
   "execution_count": 60,
   "metadata": {},
   "outputs": [],
   "source": [
    "from keras.optimizers import SGD, RMSprop\n",
    "sgd=SGD(lr=0.1)\n",
    "model.compile(optimizer=sgd, loss='mse', metrics=['mae'])"
   ]
  },
  {
   "cell_type": "code",
   "execution_count": null,
   "metadata": {},
   "outputs": [],
   "source": []
  },
  {
   "cell_type": "code",
   "execution_count": null,
   "metadata": {},
   "outputs": [],
   "source": []
  },
  {
   "cell_type": "code",
   "execution_count": null,
   "metadata": {},
   "outputs": [],
   "source": []
  },
  {
   "cell_type": "code",
   "execution_count": null,
   "metadata": {},
   "outputs": [],
   "source": []
  },
  {
   "cell_type": "code",
   "execution_count": null,
   "metadata": {},
   "outputs": [],
   "source": []
  }
 ],
 "metadata": {
  "kernelspec": {
   "display_name": "learn-env",
   "language": "python",
   "name": "learn-env"
  },
  "language_info": {
   "codemirror_mode": {
    "name": "ipython",
    "version": 3
   },
   "file_extension": ".py",
   "mimetype": "text/x-python",
   "name": "python",
   "nbconvert_exporter": "python",
   "pygments_lexer": "ipython3",
   "version": "3.6.6"
  }
 },
 "nbformat": 4,
 "nbformat_minor": 2
}
