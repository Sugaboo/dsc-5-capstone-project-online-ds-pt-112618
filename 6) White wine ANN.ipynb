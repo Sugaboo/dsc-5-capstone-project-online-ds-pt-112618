{
 "cells": [
  {
   "cell_type": "markdown",
   "metadata": {},
   "source": [
    "# 6) White wine ANN"
   ]
  },
  {
   "cell_type": "code",
   "execution_count": 1,
   "metadata": {},
   "outputs": [
    {
     "name": "stderr",
     "output_type": "stream",
     "text": [
      "Using TensorFlow backend.\n"
     ]
    }
   ],
   "source": [
    "import pandas as pd\n",
    "import numpy as np\n",
    "import seaborn as sns\n",
    "import matplotlib.pyplot as plt\n",
    "import warnings\n",
    "warnings.filterwarnings('ignore')\n",
    "%matplotlib inline\n",
    "\n",
    "from sklearn.preprocessing import LabelEncoder\n",
    "from sklearn.model_selection import train_test_split,cross_val_score,KFold,cross_val_predict\n",
    "from sklearn.preprocessing import StandardScaler\n",
    "\n",
    "from sklearn.neural_network import MLPClassifier\n",
    "import keras\n",
    "from keras.models import Sequential\n",
    "from keras.layers import Dense"
   ]
  },
  {
   "cell_type": "code",
   "execution_count": 2,
   "metadata": {},
   "outputs": [],
   "source": [
    "data = pd.read_csv('winequality-white.csv', low_memory=False, sep=';')"
   ]
  },
  {
   "cell_type": "code",
   "execution_count": 3,
   "metadata": {},
   "outputs": [
    {
     "data": {
      "text/html": [
       "<div>\n",
       "<style scoped>\n",
       "    .dataframe tbody tr th:only-of-type {\n",
       "        vertical-align: middle;\n",
       "    }\n",
       "\n",
       "    .dataframe tbody tr th {\n",
       "        vertical-align: top;\n",
       "    }\n",
       "\n",
       "    .dataframe thead th {\n",
       "        text-align: right;\n",
       "    }\n",
       "</style>\n",
       "<table border=\"1\" class=\"dataframe\">\n",
       "  <thead>\n",
       "    <tr style=\"text-align: right;\">\n",
       "      <th></th>\n",
       "      <th>fixed acidity</th>\n",
       "      <th>volatile acidity</th>\n",
       "      <th>citric acid</th>\n",
       "      <th>residual sugar</th>\n",
       "      <th>chlorides</th>\n",
       "      <th>free sulfur dioxide</th>\n",
       "      <th>total sulfur dioxide</th>\n",
       "      <th>density</th>\n",
       "      <th>pH</th>\n",
       "      <th>sulphates</th>\n",
       "      <th>alcohol</th>\n",
       "      <th>quality</th>\n",
       "    </tr>\n",
       "  </thead>\n",
       "  <tbody>\n",
       "    <tr>\n",
       "      <th>0</th>\n",
       "      <td>7.0</td>\n",
       "      <td>0.27</td>\n",
       "      <td>0.36</td>\n",
       "      <td>20.7</td>\n",
       "      <td>0.045</td>\n",
       "      <td>45.0</td>\n",
       "      <td>170.0</td>\n",
       "      <td>1.0010</td>\n",
       "      <td>3.00</td>\n",
       "      <td>0.45</td>\n",
       "      <td>8.8</td>\n",
       "      <td>6</td>\n",
       "    </tr>\n",
       "    <tr>\n",
       "      <th>1</th>\n",
       "      <td>6.3</td>\n",
       "      <td>0.30</td>\n",
       "      <td>0.34</td>\n",
       "      <td>1.6</td>\n",
       "      <td>0.049</td>\n",
       "      <td>14.0</td>\n",
       "      <td>132.0</td>\n",
       "      <td>0.9940</td>\n",
       "      <td>3.30</td>\n",
       "      <td>0.49</td>\n",
       "      <td>9.5</td>\n",
       "      <td>6</td>\n",
       "    </tr>\n",
       "    <tr>\n",
       "      <th>2</th>\n",
       "      <td>8.1</td>\n",
       "      <td>0.28</td>\n",
       "      <td>0.40</td>\n",
       "      <td>6.9</td>\n",
       "      <td>0.050</td>\n",
       "      <td>30.0</td>\n",
       "      <td>97.0</td>\n",
       "      <td>0.9951</td>\n",
       "      <td>3.26</td>\n",
       "      <td>0.44</td>\n",
       "      <td>10.1</td>\n",
       "      <td>6</td>\n",
       "    </tr>\n",
       "    <tr>\n",
       "      <th>3</th>\n",
       "      <td>7.2</td>\n",
       "      <td>0.23</td>\n",
       "      <td>0.32</td>\n",
       "      <td>8.5</td>\n",
       "      <td>0.058</td>\n",
       "      <td>47.0</td>\n",
       "      <td>186.0</td>\n",
       "      <td>0.9956</td>\n",
       "      <td>3.19</td>\n",
       "      <td>0.40</td>\n",
       "      <td>9.9</td>\n",
       "      <td>6</td>\n",
       "    </tr>\n",
       "    <tr>\n",
       "      <th>4</th>\n",
       "      <td>7.2</td>\n",
       "      <td>0.23</td>\n",
       "      <td>0.32</td>\n",
       "      <td>8.5</td>\n",
       "      <td>0.058</td>\n",
       "      <td>47.0</td>\n",
       "      <td>186.0</td>\n",
       "      <td>0.9956</td>\n",
       "      <td>3.19</td>\n",
       "      <td>0.40</td>\n",
       "      <td>9.9</td>\n",
       "      <td>6</td>\n",
       "    </tr>\n",
       "  </tbody>\n",
       "</table>\n",
       "</div>"
      ],
      "text/plain": [
       "   fixed acidity  volatile acidity  citric acid  residual sugar  chlorides  \\\n",
       "0            7.0              0.27         0.36            20.7      0.045   \n",
       "1            6.3              0.30         0.34             1.6      0.049   \n",
       "2            8.1              0.28         0.40             6.9      0.050   \n",
       "3            7.2              0.23         0.32             8.5      0.058   \n",
       "4            7.2              0.23         0.32             8.5      0.058   \n",
       "\n",
       "   free sulfur dioxide  total sulfur dioxide  density    pH  sulphates  \\\n",
       "0                 45.0                 170.0   1.0010  3.00       0.45   \n",
       "1                 14.0                 132.0   0.9940  3.30       0.49   \n",
       "2                 30.0                  97.0   0.9951  3.26       0.44   \n",
       "3                 47.0                 186.0   0.9956  3.19       0.40   \n",
       "4                 47.0                 186.0   0.9956  3.19       0.40   \n",
       "\n",
       "   alcohol  quality  \n",
       "0      8.8        6  \n",
       "1      9.5        6  \n",
       "2     10.1        6  \n",
       "3      9.9        6  \n",
       "4      9.9        6  "
      ]
     },
     "execution_count": 3,
     "metadata": {},
     "output_type": "execute_result"
    }
   ],
   "source": [
    "data.head()"
   ]
  },
  {
   "cell_type": "code",
   "execution_count": 4,
   "metadata": {},
   "outputs": [],
   "source": [
    "#converting the response variables(3-7) as binary response variables that is either good or bad\n",
    "\n",
    "#names = ['bad', 'good']\n",
    "#bins = (2, 6.5, 9)\n",
    "\n",
    "#data['quality'] = pd.cut(data['quality'], bins = bins, labels = names)\n",
    "\n",
    "data['quality'] = data['quality'].map({3 : 'bad', 4 :'bad', 5: 'bad',\n",
    "                                      6: 'good', 7: 'good', 8: 'good',\n",
    "                                      9: 'bad'})"
   ]
  },
  {
   "cell_type": "code",
   "execution_count": 5,
   "metadata": {},
   "outputs": [
    {
     "data": {
      "text/plain": [
       "good    3253\n",
       "bad     1645\n",
       "Name: quality, dtype: int64"
      ]
     },
     "execution_count": 5,
     "metadata": {},
     "output_type": "execute_result"
    }
   ],
   "source": [
    "# analyzing the different values present in the dependent variable(quality column)\n",
    "data['quality'].value_counts()"
   ]
  },
  {
   "cell_type": "code",
   "execution_count": 6,
   "metadata": {},
   "outputs": [
    {
     "data": {
      "text/plain": [
       "<bound method IndexOpsMixin.value_counts of 0       1\n",
       "1       1\n",
       "2       1\n",
       "3       1\n",
       "4       1\n",
       "5       1\n",
       "6       1\n",
       "7       1\n",
       "8       1\n",
       "9       1\n",
       "10      0\n",
       "11      0\n",
       "12      0\n",
       "13      1\n",
       "14      0\n",
       "15      1\n",
       "16      1\n",
       "17      1\n",
       "18      1\n",
       "19      0\n",
       "20      1\n",
       "21      1\n",
       "22      1\n",
       "23      0\n",
       "24      1\n",
       "25      1\n",
       "26      1\n",
       "27      1\n",
       "28      1\n",
       "29      1\n",
       "       ..\n",
       "4868    1\n",
       "4869    1\n",
       "4870    1\n",
       "4871    1\n",
       "4872    0\n",
       "4873    1\n",
       "4874    1\n",
       "4875    1\n",
       "4876    1\n",
       "4877    0\n",
       "4878    0\n",
       "4879    1\n",
       "4880    1\n",
       "4881    1\n",
       "4882    0\n",
       "4883    1\n",
       "4884    0\n",
       "4885    1\n",
       "4886    1\n",
       "4887    1\n",
       "4888    0\n",
       "4889    1\n",
       "4890    1\n",
       "4891    1\n",
       "4892    0\n",
       "4893    1\n",
       "4894    0\n",
       "4895    1\n",
       "4896    1\n",
       "4897    1\n",
       "Name: quality, Length: 4898, dtype: int32>"
      ]
     },
     "execution_count": 6,
     "metadata": {},
     "output_type": "execute_result"
    }
   ],
   "source": [
    "le = LabelEncoder()\n",
    "data['quality'] = le.fit_transform(data['quality'])\n",
    "data['quality'].value_counts"
   ]
  },
  {
   "cell_type": "code",
   "execution_count": 7,
   "metadata": {},
   "outputs": [
    {
     "data": {
      "text/plain": [
       "<matplotlib.axes._subplots.AxesSubplot at 0x2c811745e80>"
      ]
     },
     "execution_count": 7,
     "metadata": {},
     "output_type": "execute_result"
    },
    {
     "data": {
      "image/png": "[encoded data removed]",
      "text/plain": [
       "<Figure size 432x288 with 1 Axes>"
      ]
     },
     "metadata": {
      "needs_background": "light"
     },
     "output_type": "display_data"
    }
   ],
   "source": [
    "sns.countplot(data['quality'])"
   ]
  },
  {
   "cell_type": "code",
   "execution_count": 8,
   "metadata": {},
   "outputs": [
    {
     "name": "stdout",
     "output_type": "stream",
     "text": [
      "(4898, 11)\n",
      "(4898,)\n"
     ]
    }
   ],
   "source": [
    "# dividing the dataset into dependent and independent variables\n",
    "\n",
    "x = data.iloc[:,:11]\n",
    "y = data.iloc[:,11]\n",
    "\n",
    "# determining the shape of x and y.\n",
    "print(x.shape)\n",
    "print(y.shape)"
   ]
  },
  {
   "cell_type": "code",
   "execution_count": 9,
   "metadata": {},
   "outputs": [
    {
     "name": "stdout",
     "output_type": "stream",
     "text": [
      "(3673, 11)\n",
      "(3673,)\n",
      "(1225, 11)\n",
      "(1225,)\n"
     ]
    }
   ],
   "source": [
    "# dividing the dataset in training and testing set\n",
    "\n",
    "x_train, x_test, y_train, y_test = train_test_split(x, y, test_size = 0.25, random_state = 44)\n",
    "\n",
    "# determining the shapes of training and testing sets\n",
    "print(x_train.shape)\n",
    "print(y_train.shape)\n",
    "print(x_test.shape)\n",
    "print(y_test.shape)"
   ]
  },
  {
   "cell_type": "code",
   "execution_count": 10,
   "metadata": {},
   "outputs": [],
   "source": [
    "# standard scaling \n",
    "sc = StandardScaler()\n",
    "x_train = sc.fit_transform(x_train)\n",
    "x_test = sc.fit_transform(x_test)"
   ]
  },
  {
   "cell_type": "code",
   "execution_count": 11,
   "metadata": {},
   "outputs": [
    {
     "name": "stdout",
     "output_type": "stream",
     "text": [
      "training accuracy : 0.9360196025047645\n",
      "testing accuracy : 0.7869387755102041\n"
     ]
    }
   ],
   "source": [
    "# creating the model\n",
    "model = MLPClassifier(hidden_layer_sizes = (100, 100), max_iter = 150)\n",
    "\n",
    "# feeding the training data to the model\n",
    "model.fit(x_train, y_train)\n",
    "\n",
    "# calculating the accuracies\n",
    "print(\"training accuracy :\", model.score(x_train, y_train))\n",
    "print(\"testing accuracy :\", model.score(x_test, y_test))"
   ]
  },
  {
   "cell_type": "code",
   "execution_count": 15,
   "metadata": {},
   "outputs": [
    {
     "name": "stdout",
     "output_type": "stream",
     "text": [
      "_________________________________________________________________\n",
      "Layer (type)                 Output Shape              Param #   \n",
      "=================================================================\n",
      "dense_1 (Dense)              (None, 8)                 96        \n",
      "_________________________________________________________________\n",
      "dense_2 (Dense)              (None, 8)                 72        \n",
      "_________________________________________________________________\n",
      "dense_3 (Dense)              (None, 1)                 9         \n",
      "=================================================================\n",
      "Total params: 177\n",
      "Trainable params: 177\n",
      "Non-trainable params: 0\n",
      "_________________________________________________________________\n"
     ]
    }
   ],
   "source": [
    "model.summary()"
   ]
  },
  {
   "cell_type": "code",
   "execution_count": 16,
   "metadata": {
    "scrolled": false
   },
   "outputs": [
    {
     "name": "stdout",
     "output_type": "stream",
     "text": [
      "Epoch 1/100\n",
      "3673/3673 [==============================] - 1s 228us/step - loss: 0.6031 - acc: 0.6845\n",
      "Epoch 2/100\n",
      "3673/3673 [==============================] - 1s 139us/step - loss: 0.5127 - acc: 0.7555\n",
      "Epoch 3/100\n",
      "3673/3673 [==============================] - 1s 206us/step - loss: 0.5026 - acc: 0.7637\n",
      "Epoch 4/100\n",
      "3673/3673 [==============================] - 1s 146us/step - loss: 0.4980 - acc: 0.7650\n",
      "Epoch 5/100\n",
      "3673/3673 [==============================] - 1s 146us/step - loss: 0.4943 - acc: 0.7678\n",
      "Epoch 6/100\n",
      "3673/3673 [==============================] - 1s 147us/step - loss: 0.4918 - acc: 0.7697\n",
      "Epoch 7/100\n",
      "3673/3673 [==============================] - 1s 136us/step - loss: 0.4907 - acc: 0.7659\n",
      "Epoch 8/100\n",
      "3673/3673 [==============================] - 0s 135us/step - loss: 0.4883 - acc: 0.7680\n",
      "Epoch 9/100\n",
      "3673/3673 [==============================] - 1s 139us/step - loss: 0.4868 - acc: 0.7699\n",
      "Epoch 10/100\n",
      "3673/3673 [==============================] - 1s 141us/step - loss: 0.4852 - acc: 0.7689\n",
      "Epoch 11/100\n",
      "3673/3673 [==============================] - 1s 160us/step - loss: 0.4844 - acc: 0.7697\n",
      "Epoch 12/100\n",
      "3673/3673 [==============================] - 1s 198us/step - loss: 0.4828 - acc: 0.7710\n",
      "Epoch 13/100\n",
      "3673/3673 [==============================] - 1s 168us/step - loss: 0.4827 - acc: 0.7710\n",
      "Epoch 14/100\n",
      "3673/3673 [==============================] - 1s 197us/step - loss: 0.4820 - acc: 0.7713\n",
      "Epoch 15/100\n",
      "3673/3673 [==============================] - 1s 152us/step - loss: 0.4815 - acc: 0.7729\n",
      "Epoch 16/100\n",
      "3673/3673 [==============================] - 1s 138us/step - loss: 0.4813 - acc: 0.7699\n",
      "Epoch 17/100\n",
      "3673/3673 [==============================] - 0s 133us/step - loss: 0.4804 - acc: 0.7699\n",
      "Epoch 18/100\n",
      "3673/3673 [==============================] - 0s 117us/step - loss: 0.4794 - acc: 0.7691\n",
      "Epoch 19/100\n",
      "3673/3673 [==============================] - 0s 116us/step - loss: 0.4792 - acc: 0.7699\n",
      "Epoch 20/100\n",
      "3673/3673 [==============================] - 0s 109us/step - loss: 0.4788 - acc: 0.7724\n",
      "Epoch 21/100\n",
      "3673/3673 [==============================] - 0s 123us/step - loss: 0.4779 - acc: 0.7727\n",
      "Epoch 22/100\n",
      "3673/3673 [==============================] - 0s 128us/step - loss: 0.4781 - acc: 0.7735\n",
      "Epoch 23/100\n",
      "3673/3673 [==============================] - 0s 118us/step - loss: 0.4783 - acc: 0.7740\n",
      "Epoch 24/100\n",
      "3673/3673 [==============================] - 0s 127us/step - loss: 0.4775 - acc: 0.7735\n",
      "Epoch 25/100\n",
      "3673/3673 [==============================] - 0s 111us/step - loss: 0.4768 - acc: 0.7738\n",
      "Epoch 26/100\n",
      "3673/3673 [==============================] - 0s 107us/step - loss: 0.4760 - acc: 0.7732\n",
      "Epoch 27/100\n",
      "3673/3673 [==============================] - 0s 113us/step - loss: 0.4763 - acc: 0.7691\n",
      "Epoch 28/100\n",
      "3673/3673 [==============================] - 0s 118us/step - loss: 0.4759 - acc: 0.7732\n",
      "Epoch 29/100\n",
      "3673/3673 [==============================] - 0s 108us/step - loss: 0.4758 - acc: 0.7767\n",
      "Epoch 30/100\n",
      "3673/3673 [==============================] - 0s 119us/step - loss: 0.4752 - acc: 0.7735\n",
      "Epoch 31/100\n",
      "3673/3673 [==============================] - 0s 113us/step - loss: 0.4741 - acc: 0.7770\n",
      "Epoch 32/100\n",
      "3673/3673 [==============================] - 0s 108us/step - loss: 0.4747 - acc: 0.7740\n",
      "Epoch 33/100\n",
      "3673/3673 [==============================] - 0s 117us/step - loss: 0.4742 - acc: 0.7740\n",
      "Epoch 34/100\n",
      "3673/3673 [==============================] - 0s 131us/step - loss: 0.4742 - acc: 0.7740\n",
      "Epoch 35/100\n",
      "3673/3673 [==============================] - 0s 128us/step - loss: 0.4737 - acc: 0.7751\n",
      "Epoch 36/100\n",
      "3673/3673 [==============================] - 1s 184us/step - loss: 0.4739 - acc: 0.7795 0s - loss: 0.4720 - \n",
      "Epoch 37/100\n",
      "3673/3673 [==============================] - 0s 136us/step - loss: 0.4725 - acc: 0.7770\n",
      "Epoch 38/100\n",
      "3673/3673 [==============================] - 0s 116us/step - loss: 0.4717 - acc: 0.7773\n",
      "Epoch 39/100\n",
      "3673/3673 [==============================] - 1s 167us/step - loss: 0.4716 - acc: 0.7797\n",
      "Epoch 40/100\n",
      "3673/3673 [==============================] - 1s 225us/step - loss: 0.4707 - acc: 0.7765\n",
      "Epoch 41/100\n",
      "3673/3673 [==============================] - ETA: 0s - loss: 0.4720 - acc: 0.777 - 1s 149us/step - loss: 0.4697 - acc: 0.7800\n",
      "Epoch 42/100\n",
      "3673/3673 [==============================] - 1s 146us/step - loss: 0.4690 - acc: 0.7836\n",
      "Epoch 43/100\n",
      "3673/3673 [==============================] - 0s 133us/step - loss: 0.4685 - acc: 0.7803 0s - loss: 0.4847 - ac\n",
      "Epoch 44/100\n",
      "3673/3673 [==============================] - 1s 152us/step - loss: 0.4680 - acc: 0.7803\n",
      "Epoch 45/100\n",
      "3673/3673 [==============================] - 1s 136us/step - loss: 0.4685 - acc: 0.7816\n",
      "Epoch 46/100\n",
      "3673/3673 [==============================] - 1s 197us/step - loss: 0.4672 - acc: 0.7836\n",
      "Epoch 47/100\n",
      "3673/3673 [==============================] - 0s 124us/step - loss: 0.4672 - acc: 0.7825\n",
      "Epoch 48/100\n",
      "3673/3673 [==============================] - 0s 121us/step - loss: 0.4670 - acc: 0.7819\n",
      "Epoch 49/100\n",
      "3673/3673 [==============================] - 0s 128us/step - loss: 0.4659 - acc: 0.7819\n",
      "Epoch 50/100\n",
      "3673/3673 [==============================] - 1s 147us/step - loss: 0.4666 - acc: 0.7819\n",
      "Epoch 51/100\n",
      "3673/3673 [==============================] - 0s 128us/step - loss: 0.4653 - acc: 0.7825\n",
      "Epoch 52/100\n",
      "3673/3673 [==============================] - 0s 128us/step - loss: 0.4659 - acc: 0.7827\n",
      "Epoch 53/100\n",
      "3673/3673 [==============================] - 0s 120us/step - loss: 0.4656 - acc: 0.7860\n",
      "Epoch 54/100\n",
      "3673/3673 [==============================] - 0s 121us/step - loss: 0.4653 - acc: 0.7871\n",
      "Epoch 55/100\n",
      "3673/3673 [==============================] - 0s 121us/step - loss: 0.4648 - acc: 0.7852\n",
      "Epoch 56/100\n",
      "3673/3673 [==============================] - 0s 119us/step - loss: 0.4638 - acc: 0.7797\n",
      "Epoch 57/100\n",
      "3673/3673 [==============================] - 0s 121us/step - loss: 0.4640 - acc: 0.7827\n",
      "Epoch 58/100\n",
      "3673/3673 [==============================] - 0s 123us/step - loss: 0.4640 - acc: 0.7844\n",
      "Epoch 59/100\n",
      "3673/3673 [==============================] - 0s 131us/step - loss: 0.4639 - acc: 0.7860\n",
      "Epoch 60/100\n",
      "3673/3673 [==============================] - 0s 121us/step - loss: 0.4642 - acc: 0.7866\n",
      "Epoch 61/100\n",
      "3673/3673 [==============================] - 0s 117us/step - loss: 0.4632 - acc: 0.7846\n",
      "Epoch 62/100\n",
      "3673/3673 [==============================] - 0s 116us/step - loss: 0.4632 - acc: 0.7849\n",
      "Epoch 63/100\n",
      "3673/3673 [==============================] - 1s 161us/step - loss: 0.4630 - acc: 0.7868\n",
      "Epoch 64/100\n",
      "3673/3673 [==============================] - 1s 160us/step - loss: 0.4636 - acc: 0.7876\n",
      "Epoch 65/100\n",
      "3673/3673 [==============================] - 1s 149us/step - loss: 0.4630 - acc: 0.7871\n",
      "Epoch 66/100\n",
      "3673/3673 [==============================] - 1s 153us/step - loss: 0.4633 - acc: 0.7814\n",
      "Epoch 67/100\n",
      "3673/3673 [==============================] - 1s 138us/step - loss: 0.4628 - acc: 0.7830\n",
      "Epoch 68/100\n",
      "3673/3673 [==============================] - 0s 122us/step - loss: 0.4625 - acc: 0.7879\n",
      "Epoch 69/100\n",
      "3673/3673 [==============================] - 0s 124us/step - loss: 0.4619 - acc: 0.7874\n",
      "Epoch 70/100\n",
      "3673/3673 [==============================] - 0s 119us/step - loss: 0.4630 - acc: 0.7822\n",
      "Epoch 71/100\n",
      "3673/3673 [==============================] - 1s 170us/step - loss: 0.4623 - acc: 0.7868\n",
      "Epoch 72/100\n",
      "3673/3673 [==============================] - 0s 122us/step - loss: 0.4624 - acc: 0.7863\n",
      "Epoch 73/100\n",
      "3673/3673 [==============================] - 0s 108us/step - loss: 0.4612 - acc: 0.7833\n",
      "Epoch 74/100\n",
      "3673/3673 [==============================] - 0s 110us/step - loss: 0.4616 - acc: 0.7827\n",
      "Epoch 75/100\n",
      "3673/3673 [==============================] - 0s 107us/step - loss: 0.4619 - acc: 0.7874\n",
      "Epoch 76/100\n",
      "3673/3673 [==============================] - 0s 114us/step - loss: 0.4615 - acc: 0.7874\n",
      "Epoch 77/100\n",
      "3673/3673 [==============================] - 0s 118us/step - loss: 0.4610 - acc: 0.7860\n",
      "Epoch 78/100\n",
      "3673/3673 [==============================] - 1s 139us/step - loss: 0.4617 - acc: 0.7838\n",
      "Epoch 79/100\n",
      "3673/3673 [==============================] - 1s 181us/step - loss: 0.4607 - acc: 0.7860\n",
      "Epoch 80/100\n",
      "3673/3673 [==============================] - 1s 165us/step - loss: 0.4609 - acc: 0.7844\n",
      "Epoch 81/100\n"
     ]
    },
    {
     "name": "stdout",
     "output_type": "stream",
     "text": [
      "3673/3673 [==============================] - 0s 126us/step - loss: 0.4604 - acc: 0.7822\n",
      "Epoch 82/100\n",
      "3673/3673 [==============================] - 0s 118us/step - loss: 0.4611 - acc: 0.7819\n",
      "Epoch 83/100\n",
      "3673/3673 [==============================] - 0s 124us/step - loss: 0.4610 - acc: 0.7857\n",
      "Epoch 84/100\n",
      "3673/3673 [==============================] - 1s 138us/step - loss: 0.4607 - acc: 0.7857\n",
      "Epoch 85/100\n",
      "3673/3673 [==============================] - 0s 123us/step - loss: 0.4610 - acc: 0.7830\n",
      "Epoch 86/100\n",
      "3673/3673 [==============================] - 0s 113us/step - loss: 0.4609 - acc: 0.7841\n",
      "Epoch 87/100\n",
      "3673/3673 [==============================] - 0s 118us/step - loss: 0.4610 - acc: 0.7844\n",
      "Epoch 88/100\n",
      "3673/3673 [==============================] - 0s 121us/step - loss: 0.4602 - acc: 0.7830\n",
      "Epoch 89/100\n",
      "3673/3673 [==============================] - 0s 133us/step - loss: 0.4592 - acc: 0.7816\n",
      "Epoch 90/100\n",
      "3673/3673 [==============================] - 0s 125us/step - loss: 0.4600 - acc: 0.7811\n",
      "Epoch 91/100\n",
      "3673/3673 [==============================] - 0s 121us/step - loss: 0.4598 - acc: 0.7860\n",
      "Epoch 92/100\n",
      "3673/3673 [==============================] - 0s 109us/step - loss: 0.4596 - acc: 0.7846\n",
      "Epoch 93/100\n",
      "3673/3673 [==============================] - 0s 110us/step - loss: 0.4606 - acc: 0.7849\n",
      "Epoch 94/100\n",
      "3673/3673 [==============================] - 0s 118us/step - loss: 0.4598 - acc: 0.7827\n",
      "Epoch 95/100\n",
      "3673/3673 [==============================] - 0s 131us/step - loss: 0.4600 - acc: 0.7863\n",
      "Epoch 96/100\n",
      "3673/3673 [==============================] - 0s 114us/step - loss: 0.4599 - acc: 0.7855\n",
      "Epoch 97/100\n",
      "3673/3673 [==============================] - 0s 130us/step - loss: 0.4595 - acc: 0.7874\n",
      "Epoch 98/100\n",
      "3673/3673 [==============================] - 0s 125us/step - loss: 0.4597 - acc: 0.7860\n",
      "Epoch 99/100\n",
      "3673/3673 [==============================] - 0s 116us/step - loss: 0.4588 - acc: 0.7836\n",
      "Epoch 100/100\n",
      "3673/3673 [==============================] - 0s 121us/step - loss: 0.4593 - acc: 0.7833\n"
     ]
    },
    {
     "data": {
      "text/plain": [
       "<keras.callbacks.History at 0x2c813d9a358>"
      ]
     },
     "execution_count": 16,
     "metadata": {},
     "output_type": "execute_result"
    }
   ],
   "source": [
    "#creating the model\n",
    "model = Sequential()\n",
    "\n",
    "# first hidden layer\n",
    "model.add(Dense(output_dim = 8, init = 'uniform', activation = 'relu', input_dim = 11))\n",
    "\n",
    "# second hidden layer\n",
    "model.add(Dense(output_dim = 8, init = 'uniform', activation = 'relu'))\n",
    "\n",
    "# output layer\n",
    "model.add(Dense(output_dim = 1, init = 'uniform', activation = 'sigmoid'))\n",
    "\n",
    "# Compiling the NN\n",
    "# binary_crossentropy loss function used when a binary output is expected\n",
    "model.compile(optimizer = 'adam', loss = 'binary_crossentropy', metrics = ['accuracy']) \n",
    "\n",
    "model.fit(x_train, y_train, batch_size = 10, nb_epoch = 100)"
   ]
  },
  {
   "cell_type": "code",
   "execution_count": null,
   "metadata": {},
   "outputs": [],
   "source": []
  },
  {
   "cell_type": "code",
   "execution_count": null,
   "metadata": {},
   "outputs": [],
   "source": []
  },
  {
   "cell_type": "code",
   "execution_count": null,
   "metadata": {},
   "outputs": [],
   "source": []
  },
  {
   "cell_type": "code",
   "execution_count": null,
   "metadata": {},
   "outputs": [],
   "source": []
  },
  {
   "cell_type": "code",
   "execution_count": null,
   "metadata": {},
   "outputs": [],
   "source": []
  }
 ],
 "metadata": {
  "kernelspec": {
   "display_name": "learn-env",
   "language": "python",
   "name": "learn-env"
  },
  "language_info": {
   "codemirror_mode": {
    "name": "ipython",
    "version": 3
   },
   "file_extension": ".py",
   "mimetype": "text/x-python",
   "name": "python",
   "nbconvert_exporter": "python",
   "pygments_lexer": "ipython3",
   "version": "3.6.6"
  }
 },
 "nbformat": 4,
 "nbformat_minor": 2
}
